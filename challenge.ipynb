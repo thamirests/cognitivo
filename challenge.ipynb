{
  "nbformat": 4,
  "nbformat_minor": 0,
  "metadata": {
    "colab": {
      "name": "challenge.ipynb",
      "provenance": [],
      "collapsed_sections": [],
      "mount_file_id": "1kJXwY3susFgQ6PHCvgTDxJ20NlzIsTF0",
      "authorship_tag": "ABX9TyOwfjGZWIgHUDGwmHkN1qDz",
      "include_colab_link": true
    },
    "kernelspec": {
      "name": "python3",
      "display_name": "Python 3"
    }
  },
  "cells": [
    {
      "cell_type": "markdown",
      "metadata": {
        "id": "view-in-github",
        "colab_type": "text"
      },
      "source": [
        "<a href=\"https://colab.research.google.com/github/thamirests/cognitivo/blob/main/challenge.ipynb\" target=\"_parent\"><img src=\"https://colab.research.google.com/assets/colab-badge.svg\" alt=\"Open In Colab\"/></a>"
      ]
    },
    {
      "cell_type": "code",
      "metadata": {
        "colab": {
          "base_uri": "https://localhost:8080/",
          "height": 190
        },
        "id": "sjohNREd9HPA",
        "outputId": "adf24612-6363-4c75-94d5-47e5e63664eb"
      },
      "source": [
        "#1) foi escolhido o formato parquet para dado colunar devido a compressão \n",
        "import pandas as pd\n",
        "import numpy as np\n",
        "df = pd.read_csv('/content/drive/MyDrive/Temp/teste-eng-dados/data/input/users/load.csv')\n",
        "df.to_parquet('load.parquet')\n",
        " "
      ],
      "execution_count": 47,
      "outputs": [
        {
          "output_type": "execute_result",
          "data": {
            "text/html": [
              "<div>\n",
              "<style scoped>\n",
              "    .dataframe tbody tr th:only-of-type {\n",
              "        vertical-align: middle;\n",
              "    }\n",
              "\n",
              "    .dataframe tbody tr th {\n",
              "        vertical-align: top;\n",
              "    }\n",
              "\n",
              "    .dataframe thead th {\n",
              "        text-align: right;\n",
              "    }\n",
              "</style>\n",
              "<table border=\"1\" class=\"dataframe\">\n",
              "  <thead>\n",
              "    <tr style=\"text-align: right;\">\n",
              "      <th></th>\n",
              "      <th>id</th>\n",
              "      <th>name</th>\n",
              "      <th>email</th>\n",
              "      <th>phone</th>\n",
              "      <th>address</th>\n",
              "      <th>age</th>\n",
              "      <th>create_date</th>\n",
              "      <th>update_date</th>\n",
              "    </tr>\n",
              "  </thead>\n",
              "  <tbody>\n",
              "    <tr>\n",
              "      <th>2</th>\n",
              "      <td>2</td>\n",
              "      <td>sherlock.holmes@cognitivo.ai</td>\n",
              "      <td>Sherlock Holmes</td>\n",
              "      <td>(11) 94815-1623</td>\n",
              "      <td>221B Baker Street, London, UK</td>\n",
              "      <td>34</td>\n",
              "      <td>2018-04-21 20:21:24.364752</td>\n",
              "      <td>2018-04-21 20:21:24.364752</td>\n",
              "    </tr>\n",
              "    <tr>\n",
              "      <th>4</th>\n",
              "      <td>1</td>\n",
              "      <td>david.lynch@cognitivo.ai</td>\n",
              "      <td>David Lynch</td>\n",
              "      <td>(11) 99999-9999</td>\n",
              "      <td>Mulholland Drive, Los Angeles, CA, US</td>\n",
              "      <td>72</td>\n",
              "      <td>2018-03-03 18:47:01.954752</td>\n",
              "      <td>2018-05-23 10:13:59.594752</td>\n",
              "    </tr>\n",
              "    <tr>\n",
              "      <th>5</th>\n",
              "      <td>3</td>\n",
              "      <td>spongebob.squarepants@cognitivo.ai</td>\n",
              "      <td>Spongebob Squarepants</td>\n",
              "      <td>(11) 98765-4321</td>\n",
              "      <td>122 Conch Street, Bikini Bottom, Pacific Ocean</td>\n",
              "      <td>13</td>\n",
              "      <td>2018-05-19 04:07:06.854752</td>\n",
              "      <td>2018-05-19 05:08:07.964752</td>\n",
              "    </tr>\n",
              "  </tbody>\n",
              "</table>\n",
              "</div>"
            ],
            "text/plain": [
              "   id  ...                 update_date\n",
              "2   2  ...  2018-04-21 20:21:24.364752\n",
              "4   1  ...  2018-05-23 10:13:59.594752\n",
              "5   3  ...  2018-05-19 05:08:07.964752\n",
              "\n",
              "[3 rows x 8 columns]"
            ]
          },
          "metadata": {
            "tags": []
          },
          "execution_count": 47
        }
      ]
    },
    {
      "cell_type": "code",
      "metadata": {
        "id": "kvnBezc5FhfJ"
      },
      "source": [
        "#2) utilizei uma função propria do pandas para tratar os deduplicados\r\n",
        "df = df.drop_duplicates(subset=['id'], keep='last')\r\n",
        "df.head()"
      ],
      "execution_count": null,
      "outputs": []
    },
    {
      "cell_type": "code",
      "metadata": {
        "colab": {
          "base_uri": "https://localhost:8080/"
        },
        "id": "w06Q2FtgifFz",
        "outputId": "923892e1-c783-4f6e-fdd1-9946184cf89d"
      },
      "source": [
        "#3) utilizei um 'de para' para comparar e converter os tipos de dados. No caso eu usei só os tipos da amostra, mas funciona com todos os datatypes\r\n",
        "dt =pd.read_json('/content/drive/MyDrive/Temp/teste-eng-dados/config/types_mapping.json', typ='series')\r\n",
        "i =0\r\n",
        "for d in dt.items():\r\n",
        "  \r\n",
        "  t = dt.values[i]\r\n",
        "  if t == \"integer\":\r\n",
        "    t=\"int64\"\r\n",
        "  if t == \"timestamp\":\r\n",
        "    t=\"datetime64\"\r\n",
        "    \r\n",
        "  df[i] = df[dt.index[i]].astype(t)\r\n",
        "  print(df[i])\r\n",
        "  i =+1\r\n",
        " "
      ],
      "execution_count": 74,
      "outputs": [
        {
          "output_type": "stream",
          "text": [
            "2    34\n",
            "4    72\n",
            "5    13\n",
            "Name: 0, dtype: int64\n",
            "2   2018-04-21 20:21:24.364752\n",
            "4   2018-03-03 18:47:01.954752\n",
            "5   2018-05-19 04:07:06.854752\n",
            "Name: 1, dtype: datetime64[ns]\n",
            "2   2018-04-21 20:21:24.364752\n",
            "4   2018-03-03 18:47:01.954752\n",
            "5   2018-05-19 04:07:06.854752\n",
            "Name: 1, dtype: datetime64[ns]\n"
          ],
          "name": "stdout"
        }
      ]
    },
    {
      "cell_type": "code",
      "metadata": {
        "id": "FsKroy_Cjp29"
      },
      "source": [
        ""
      ],
      "execution_count": null,
      "outputs": []
    }
  ]
}